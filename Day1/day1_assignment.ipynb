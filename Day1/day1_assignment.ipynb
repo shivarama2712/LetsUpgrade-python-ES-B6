{
 "cells": [
  {
   "cell_type": "markdown",
   "metadata": {},
   "source": [
    "# Question 1?\n",
    "What is Python ? What are the ways to install python in your PC?"
   ]
  },
  {
   "cell_type": "markdown",
   "metadata": {},
   "source": [
    "* Python is a popular and high level language programming language.\n",
    "* It is high level built in data structure, combined with dynamic typing and dynamic binding.\n",
    "* python is simple and easy syntax and readability therefore reduces cost of program maintenance.\n",
    "* It is object oriented program\n",
    "\n",
    "ways:\n",
    "\n",
    "1} Downloading from www.python.org\n",
    "\n",
    "2} Downloading IDE 's like visual studio, anaconda, pycharm.\n",
    "\n",
    "3} Using Google colab you can implement python codes without download.\n",
    "\n"
   ]
  },
  {
   "cell_type": "markdown",
   "metadata": {},
   "source": [
    "# question 2?\n",
    "What are code environments?  types?"
   ]
  },
  {
   "cell_type": "markdown",
   "metadata": {},
   "source": [
    "Where we can write a code, compile a code and performance of a code is called code environment.\n",
    "types:\n",
    "1. Text Editor\n",
    "\n",
    "2.Full IDE\n",
    "\n",
    "3. Next book environment"
   ]
  },
  {
   "cell_type": "code",
   "execution_count": null,
   "metadata": {},
   "outputs": [],
   "source": []
  }
 ],
 "metadata": {
  "kernelspec": {
   "display_name": "Python 3",
   "language": "python",
   "name": "python3"
  },
  "language_info": {
   "codemirror_mode": {
    "name": "ipython",
    "version": 3
   },
   "file_extension": ".py",
   "mimetype": "text/x-python",
   "name": "python",
   "nbconvert_exporter": "python",
   "pygments_lexer": "ipython3",
   "version": "3.7.4"
  }
 },
 "nbformat": 4,
 "nbformat_minor": 2
}
